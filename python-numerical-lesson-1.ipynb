{
 "cells": [
  {
   "cell_type": "markdown",
   "id": "e38576e5",
   "metadata": {},
   "source": [
    "# Introductory Python for Numerical Analysis"
   ]
  },
  {
   "cell_type": "code",
   "execution_count": 1,
   "id": "53ec0d49",
   "metadata": {},
   "outputs": [
    {
     "name": "stdout",
     "output_type": "stream",
     "text": [
      "NUMERICAL ANALYSIS\n"
     ]
    }
   ],
   "source": [
    "print(\"NUMERICAL ANALYSIS\")"
   ]
  },
  {
   "cell_type": "code",
   "execution_count": 3,
   "id": "e278e5a6",
   "metadata": {},
   "outputs": [
    {
     "name": "stdout",
     "output_type": "stream",
     "text": [
      "1\n",
      "2\n"
     ]
    }
   ],
   "source": [
    "# Variable names are case senstive\n",
    "'''\n",
    "Author: BERKE BIÇAK\n",
    "\n",
    "'''\n",
    "var = 1\n",
    "Var = 2\n",
    "print(var)\n",
    "print(Var)"
   ]
  },
  {
   "cell_type": "code",
   "execution_count": 6,
   "id": "fff045cc",
   "metadata": {
    "scrolled": true
   },
   "outputs": [
    {
     "ename": "SyntaxError",
     "evalue": "invalid syntax (1251161845.py, line 2)",
     "output_type": "error",
     "traceback": [
      "\u001b[1;36m  Input \u001b[1;32mIn [6]\u001b[1;36m\u001b[0m\n\u001b[1;33m    1var = 7\u001b[0m\n\u001b[1;37m     ^\u001b[0m\n\u001b[1;31mSyntaxError\u001b[0m\u001b[1;31m:\u001b[0m invalid syntax\n"
     ]
    }
   ],
   "source": [
    "# variable names cant start with numbers\n",
    "1var = 7\n",
    "2_var = 8\n",
    "print(1var)\n",
    "print(2_var)"
   ]
  },
  {
   "cell_type": "code",
   "execution_count": 7,
   "id": "fc31f903",
   "metadata": {},
   "outputs": [],
   "source": [
    "import keyword"
   ]
  },
  {
   "cell_type": "code",
   "execution_count": 9,
   "id": "b52db97c",
   "metadata": {},
   "outputs": [
    {
     "data": {
      "text/plain": [
       "['__all__',\n",
       " '__builtins__',\n",
       " '__cached__',\n",
       " '__doc__',\n",
       " '__file__',\n",
       " '__loader__',\n",
       " '__name__',\n",
       " '__package__',\n",
       " '__spec__',\n",
       " 'iskeyword',\n",
       " 'issoftkeyword',\n",
       " 'kwlist',\n",
       " 'softkwlist']"
      ]
     },
     "execution_count": 9,
     "metadata": {},
     "output_type": "execute_result"
    }
   ],
   "source": [
    "dir(keyword)"
   ]
  },
  {
   "cell_type": "code",
   "execution_count": 10,
   "id": "a449cb3a",
   "metadata": {},
   "outputs": [
    {
     "name": "stdout",
     "output_type": "stream",
     "text": [
      "Help on built-in function __contains__:\n",
      "\n",
      "__contains__(...) method of builtins.frozenset instance\n",
      "    x.__contains__(y) <==> y in x.\n",
      "\n"
     ]
    }
   ],
   "source": [
    "help(keyword.iskeyword)"
   ]
  },
  {
   "cell_type": "code",
   "execution_count": 11,
   "id": "59c7080c",
   "metadata": {},
   "outputs": [
    {
     "data": {
      "text/plain": [
       "False"
      ]
     },
     "execution_count": 11,
     "metadata": {},
     "output_type": "execute_result"
    }
   ],
   "source": [
    "keyword.iskeyword(\"berke\")"
   ]
  },
  {
   "cell_type": "code",
   "execution_count": 12,
   "id": "54e1d99a",
   "metadata": {},
   "outputs": [
    {
     "data": {
      "text/plain": [
       "True"
      ]
     },
     "execution_count": 12,
     "metadata": {},
     "output_type": "execute_result"
    }
   ],
   "source": [
    "keyword.iskeyword(\"if\")"
   ]
  },
  {
   "cell_type": "code",
   "execution_count": 13,
   "id": "f3c35ef0",
   "metadata": {},
   "outputs": [
    {
     "name": "stdout",
     "output_type": "stream",
     "text": [
      "Help on list object:\n",
      "\n",
      "class list(object)\n",
      " |  list(iterable=(), /)\n",
      " |  \n",
      " |  Built-in mutable sequence.\n",
      " |  \n",
      " |  If no argument is given, the constructor creates a new empty list.\n",
      " |  The argument must be an iterable if specified.\n",
      " |  \n",
      " |  Methods defined here:\n",
      " |  \n",
      " |  __add__(self, value, /)\n",
      " |      Return self+value.\n",
      " |  \n",
      " |  __contains__(self, key, /)\n",
      " |      Return key in self.\n",
      " |  \n",
      " |  __delitem__(self, key, /)\n",
      " |      Delete self[key].\n",
      " |  \n",
      " |  __eq__(self, value, /)\n",
      " |      Return self==value.\n",
      " |  \n",
      " |  __ge__(self, value, /)\n",
      " |      Return self>=value.\n",
      " |  \n",
      " |  __getattribute__(self, name, /)\n",
      " |      Return getattr(self, name).\n",
      " |  \n",
      " |  __getitem__(...)\n",
      " |      x.__getitem__(y) <==> x[y]\n",
      " |  \n",
      " |  __gt__(self, value, /)\n",
      " |      Return self>value.\n",
      " |  \n",
      " |  __iadd__(self, value, /)\n",
      " |      Implement self+=value.\n",
      " |  \n",
      " |  __imul__(self, value, /)\n",
      " |      Implement self*=value.\n",
      " |  \n",
      " |  __init__(self, /, *args, **kwargs)\n",
      " |      Initialize self.  See help(type(self)) for accurate signature.\n",
      " |  \n",
      " |  __iter__(self, /)\n",
      " |      Implement iter(self).\n",
      " |  \n",
      " |  __le__(self, value, /)\n",
      " |      Return self<=value.\n",
      " |  \n",
      " |  __len__(self, /)\n",
      " |      Return len(self).\n",
      " |  \n",
      " |  __lt__(self, value, /)\n",
      " |      Return self<value.\n",
      " |  \n",
      " |  __mul__(self, value, /)\n",
      " |      Return self*value.\n",
      " |  \n",
      " |  __ne__(self, value, /)\n",
      " |      Return self!=value.\n",
      " |  \n",
      " |  __repr__(self, /)\n",
      " |      Return repr(self).\n",
      " |  \n",
      " |  __reversed__(self, /)\n",
      " |      Return a reverse iterator over the list.\n",
      " |  \n",
      " |  __rmul__(self, value, /)\n",
      " |      Return value*self.\n",
      " |  \n",
      " |  __setitem__(self, key, value, /)\n",
      " |      Set self[key] to value.\n",
      " |  \n",
      " |  __sizeof__(self, /)\n",
      " |      Return the size of the list in memory, in bytes.\n",
      " |  \n",
      " |  append(self, object, /)\n",
      " |      Append object to the end of the list.\n",
      " |  \n",
      " |  clear(self, /)\n",
      " |      Remove all items from list.\n",
      " |  \n",
      " |  copy(self, /)\n",
      " |      Return a shallow copy of the list.\n",
      " |  \n",
      " |  count(self, value, /)\n",
      " |      Return number of occurrences of value.\n",
      " |  \n",
      " |  extend(self, iterable, /)\n",
      " |      Extend list by appending elements from the iterable.\n",
      " |  \n",
      " |  index(self, value, start=0, stop=9223372036854775807, /)\n",
      " |      Return first index of value.\n",
      " |      \n",
      " |      Raises ValueError if the value is not present.\n",
      " |  \n",
      " |  insert(self, index, object, /)\n",
      " |      Insert object before index.\n",
      " |  \n",
      " |  pop(self, index=-1, /)\n",
      " |      Remove and return item at index (default last).\n",
      " |      \n",
      " |      Raises IndexError if list is empty or index is out of range.\n",
      " |  \n",
      " |  remove(self, value, /)\n",
      " |      Remove first occurrence of value.\n",
      " |      \n",
      " |      Raises ValueError if the value is not present.\n",
      " |  \n",
      " |  reverse(self, /)\n",
      " |      Reverse *IN PLACE*.\n",
      " |  \n",
      " |  sort(self, /, *, key=None, reverse=False)\n",
      " |      Sort the list in ascending order and return None.\n",
      " |      \n",
      " |      The sort is in-place (i.e. the list itself is modified) and stable (i.e. the\n",
      " |      order of two equal elements is maintained).\n",
      " |      \n",
      " |      If a key function is given, apply it once to each list item and sort them,\n",
      " |      ascending or descending, according to their function values.\n",
      " |      \n",
      " |      The reverse flag can be set to sort in descending order.\n",
      " |  \n",
      " |  ----------------------------------------------------------------------\n",
      " |  Class methods defined here:\n",
      " |  \n",
      " |  __class_getitem__(...) from builtins.type\n",
      " |      See PEP 585\n",
      " |  \n",
      " |  ----------------------------------------------------------------------\n",
      " |  Static methods defined here:\n",
      " |  \n",
      " |  __new__(*args, **kwargs) from builtins.type\n",
      " |      Create and return a new object.  See help(type) for accurate signature.\n",
      " |  \n",
      " |  ----------------------------------------------------------------------\n",
      " |  Data and other attributes defined here:\n",
      " |  \n",
      " |  __hash__ = None\n",
      "\n"
     ]
    }
   ],
   "source": [
    "help(keyword.kwlist)"
   ]
  },
  {
   "cell_type": "code",
   "execution_count": 25,
   "id": "77809ccb",
   "metadata": {},
   "outputs": [
    {
     "name": "stdout",
     "output_type": "stream",
     "text": [
      "v1= 6 | v2= 7.520000e+00 | v3= Berke | v4= False\n",
      "v1= 6 | v2= 7.52 | v3= Berke | v4= False\n",
      "v1=     6 | v2= 7.52000000 | v3= Berke | v4= 0\n"
     ]
    }
   ],
   "source": [
    "v1,v2,v3,v4 = 6 , 7.52 , \"Berke\", False\n",
    "# formatted output\n",
    "print(\"v1= %d | v2= %e | v3= %s | v4= %s\" % (v1,v2,v3,v4))\n",
    "print(\"v1= {0} | v2= {1} | v3= {2} | v4= {3}\" .format(v1,v2,v3,v4))\n",
    "print(f\"v1= {v1:5d} | v2= {v2:10.8f} | v3= {v3:s} | v4= {v4:d}\")\n",
    "#v4:d True değeri int olarak gosteriyor d=decimal\n",
    "# \"8.4f = toplam 8 karakter . ile birlikte noktadan sonra 4 basamak\"\n",
    "\n"
   ]
  },
  {
   "cell_type": "code",
   "execution_count": 28,
   "id": "1bcc52cc",
   "metadata": {},
   "outputs": [
    {
     "name": "stdout",
     "output_type": "stream",
     "text": [
      "12.0\n",
      "4\n",
      "True\n",
      "<class 'str'>\n"
     ]
    }
   ],
   "source": [
    "# typecasting\n",
    "print(float(12))\n",
    "print(int(4.999999))\n",
    "print(bool(21))\n",
    "print(type(str(1232)))"
   ]
  },
  {
   "cell_type": "code",
   "execution_count": 54,
   "id": "01a926fc",
   "metadata": {},
   "outputs": [
    {
     "name": "stdout",
     "output_type": "stream",
     "text": [
      "ç\n",
      "11\n",
      "k\n",
      "k\n",
      "e\n",
      "Berke\n",
      "Berke\n",
      "Bıçak\n",
      "kaçıB ekreB\n",
      "\n"
     ]
    }
   ],
   "source": [
    "name = \"Berke Bıçak\"\n",
    "print(name[8])\n",
    "print(len(name))\n",
    "print(name[len(name)-1])\n",
    "print(name[-1])\n",
    "print(name[-7])\n",
    "print(name[0:5]) # [starts:end)\n",
    "print(name[:5])\n",
    "print(name[6:])\n",
    "print(name[::-1])\n",
    "print(name[0:1:-2])"
   ]
  },
  {
   "cell_type": "code",
   "execution_count": 61,
   "id": "29fed829",
   "metadata": {},
   "outputs": [
    {
     "name": "stdout",
     "output_type": "stream",
     "text": [
      "B*e*r*k*e* *B*ı*ç*a*k*\n",
      "rke Bıça\n",
      "Berke Bıçak"
     ]
    }
   ],
   "source": [
    "# loops and range\n",
    "for i  in range(len(name)):\n",
    "    print(name[i], end=\"*\")\n",
    "print(\"\")\n",
    "for i  in range(2,10):\n",
    "    print(name[i], end=\"\")\n",
    "print(\"\")\n",
    "for c  in name:\n",
    "    print(c,end=\"\")"
   ]
  },
  {
   "cell_type": "code",
   "execution_count": null,
   "id": "988cb680",
   "metadata": {},
   "outputs": [],
   "source": []
  },
  {
   "cell_type": "code",
   "execution_count": null,
   "id": "d161dd09",
   "metadata": {},
   "outputs": [],
   "source": []
  },
  {
   "cell_type": "code",
   "execution_count": null,
   "id": "4ece494f",
   "metadata": {},
   "outputs": [],
   "source": []
  }
 ],
 "metadata": {
  "kernelspec": {
   "display_name": "Python 3 (ipykernel)",
   "language": "python",
   "name": "python3"
  },
  "language_info": {
   "codemirror_mode": {
    "name": "ipython",
    "version": 3
   },
   "file_extension": ".py",
   "mimetype": "text/x-python",
   "name": "python",
   "nbconvert_exporter": "python",
   "pygments_lexer": "ipython3",
   "version": "3.9.12"
  }
 },
 "nbformat": 4,
 "nbformat_minor": 5
}
